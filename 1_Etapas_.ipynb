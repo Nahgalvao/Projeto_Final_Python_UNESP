{
  "nbformat": 4,
  "nbformat_minor": 0,
  "metadata": {
    "colab": {
      "provenance": [],
      "authorship_tag": "ABX9TyMG11XIAKEqHSz8epoD6UbO",
      "include_colab_link": true
    },
    "kernelspec": {
      "name": "python3",
      "display_name": "Python 3"
    },
    "language_info": {
      "name": "python"
    }
  },
  "cells": [
    {
      "cell_type": "markdown",
      "metadata": {
        "id": "view-in-github",
        "colab_type": "text"
      },
      "source": [
        "<a href=\"https://colab.research.google.com/github/Nahgalvao/Projeto_Final_Python_UNESP/blob/main/1_Etapas_.ipynb\" target=\"_parent\"><img src=\"https://colab.research.google.com/assets/colab-badge.svg\" alt=\"Open In Colab\"/></a>"
      ]
    },
    {
      "cell_type": "markdown",
      "source": [
        "##**1.Precurssor**"
      ],
      "metadata": {
        "id": "AMPn5Twc3ZqC"
      }
    },
    {
      "cell_type": "markdown",
      "source": [
        "####**1.1. Formar a solução à 0,1 molar**"
      ],
      "metadata": {
        "id": "d2qT5_eP3jGh"
      }
    },
    {
      "cell_type": "markdown",
      "source": [
        "####**1.2. Sempre partir da concetração do volume final, diluir esse valor pela metade e armazenar o restante**"
      ],
      "metadata": {
        "id": "PJJ-7KGq4AAk"
      }
    },
    {
      "cell_type": "markdown",
      "source": [
        "#### Perguntar a concentração desejada do volume final e dividir pela metade:"
      ],
      "metadata": {
        "id": "fg6e3Gqg-Kgr"
      }
    },
    {
      "cell_type": "code",
      "execution_count": 99,
      "metadata": {
        "id": "I0nVWW6a3Nfh",
        "colab": {
          "base_uri": "https://localhost:8080/"
        },
        "outputId": "80f32945-8391-4e9c-fd3f-bbfb2d69515f"
      },
      "outputs": [
        {
          "output_type": "stream",
          "name": "stdout",
          "text": [
            "Digite a concentração de volume final (em ml): 250\n",
            "O volume da reação será de 125.0 ml\n"
          ]
        }
      ],
      "source": [
        "volume_final = int(input(\"Digite a concentração de volume final (em ml): \"))\n",
        "volume_reacao = volume_final / 2\n",
        "print(f'O volume da reação será de {volume_reacao} ml')"
      ]
    },
    {
      "cell_type": "markdown",
      "source": [
        "####**1.3. Colher os dados do material usado para a síntese**"
      ],
      "metadata": {
        "id": "s-VkCw3RK7TL"
      }
    },
    {
      "cell_type": "markdown",
      "source": [
        "#### Supondo que os dados do *Agente Precurssor* sejam esses:\n",
        "\n",
        "##### MM = 219,51 g/mol\n",
        "##### Pureza = 98% = 98g de AcZn / 100g de sólido\n",
        "##### Concentração final = 0,1 M = 0,1 mol/L"
      ],
      "metadata": {
        "id": "K3DvGGB-LpQH"
      }
    },
    {
      "cell_type": "markdown",
      "source": [
        "####**1.3.1. Definir a quantidade em mol do *Agente Precurssor***"
      ],
      "metadata": {
        "id": "y5bLzubpNAhT"
      }
    },
    {
      "cell_type": "code",
      "source": [
        "MM = ('219.51')\n",
        "Pureza = 98\n",
        "conc_final = ('0.1')\n",
        "volume_final = float(input(\"Digite a concentração de volume final (em ml): \"))\n",
        "volume_reacao = volume_final / 2\n",
        "print(f'O volume da reação será de {volume_reacao} ml')"
      ],
      "metadata": {
        "colab": {
          "base_uri": "https://localhost:8080/"
        },
        "id": "nqPjvaksLo0S",
        "outputId": "ee6f6c41-e6b4-4cac-dce4-0be35b1b6a1a"
      },
      "execution_count": 100,
      "outputs": [
        {
          "output_type": "stream",
          "name": "stdout",
          "text": [
            "Digite a concentração de volume final (em ml): 250\n",
            "O volume da reação será de 125.0 ml\n"
          ]
        }
      ]
    },
    {
      "cell_type": "code",
      "source": [
        "volume_reacao = float(volume_reacao)\n",
        "volume_final = float(volume_final)\n",
        "conc_final = float(conc_final)\n",
        "MM = float(MM)"
      ],
      "metadata": {
        "id": "XgdJ4XxxM7RI"
      },
      "execution_count": 101,
      "outputs": []
    },
    {
      "cell_type": "code",
      "source": [
        "conc_molar = volume_reacao * conc_final / 1000"
      ],
      "metadata": {
        "id": "2b7o1JqNaTdr"
      },
      "execution_count": 102,
      "outputs": []
    },
    {
      "cell_type": "code",
      "source": [
        "print(f' A concentração molar do Agente Precurssor na reação será de {conc_molar} mol ')"
      ],
      "metadata": {
        "colab": {
          "base_uri": "https://localhost:8080/"
        },
        "id": "XbyEUHGBUURC",
        "outputId": "c94cf787-fed1-49d6-ba5f-e76ab4538768"
      },
      "execution_count": 113,
      "outputs": [
        {
          "output_type": "stream",
          "name": "stdout",
          "text": [
            " A concentração molar do Agente Precurssor na reação será de 0.0125 mol \n"
          ]
        }
      ]
    },
    {
      "cell_type": "markdown",
      "source": [
        "####**1.3.2. Definir a quantidade em gramas do *Agente Precurssor***"
      ],
      "metadata": {
        "id": "Yes8eMB4coLO"
      }
    },
    {
      "cell_type": "code",
      "source": [
        "x = MM * conc_molar / 1      # 1 mol de Agente Precurssor"
      ],
      "metadata": {
        "id": "71i0_M9kY1mP"
      },
      "execution_count": 104,
      "outputs": []
    },
    {
      "cell_type": "code",
      "source": [
        "print(f' x será {x}g Agente Precurssor ')"
      ],
      "metadata": {
        "colab": {
          "base_uri": "https://localhost:8080/"
        },
        "id": "MwF9IqNAdPgf",
        "outputId": "9eca5053-5c0a-4f0d-a1d7-3766d4df5176"
      },
      "execution_count": 105,
      "outputs": [
        {
          "output_type": "stream",
          "name": "stdout",
          "text": [
            " x será 2.743875g Agente Precurssor \n"
          ]
        }
      ]
    },
    {
      "cell_type": "markdown",
      "source": [
        "####**1.3.3. Definir a quantidade em gramas do *Agente Precurssor* adicionando sua pureza**"
      ],
      "metadata": {
        "id": "JiEANFvkd6XY"
      }
    },
    {
      "cell_type": "code",
      "source": [
        "y = x * 100 / Pureza         # 100 g de sólido"
      ],
      "metadata": {
        "id": "MDGpCyHFeBXZ"
      },
      "execution_count": 106,
      "outputs": []
    },
    {
      "cell_type": "code",
      "source": [
        "print(f' Para realizar a etapa Precurssora seram necessários {y}g sólido do Agente para {volume_reacao}ml de etanol ')"
      ],
      "metadata": {
        "colab": {
          "base_uri": "https://localhost:8080/"
        },
        "id": "tzG-RuHlenzp",
        "outputId": "883ae236-586f-4953-acd1-cfcf6bcb016d"
      },
      "execution_count": 107,
      "outputs": [
        {
          "output_type": "stream",
          "name": "stdout",
          "text": [
            " Para realizar a etapa Precurssora seram necessários 2.799872448979592g sólido do Agente para 125.0ml de etanol \n"
          ]
        }
      ]
    },
    {
      "cell_type": "markdown",
      "source": [
        "##**2.Suspensão Coloidal**"
      ],
      "metadata": {
        "id": "hfmPwgz4olAu"
      }
    },
    {
      "cell_type": "markdown",
      "source": [
        "####**2.1. Adicionar o agente de Hidrólise a solução pronta**"
      ],
      "metadata": {
        "id": "TJpuMR1bo8o4"
      }
    },
    {
      "cell_type": "markdown",
      "source": [
        "####**2.2. Colher os dados do material usado para a etapa Precurssora**"
      ],
      "metadata": {
        "id": "8P4lEa18pKgY"
      }
    },
    {
      "cell_type": "markdown",
      "source": [
        "#### Supondo que os dados do *Agente de Hidrólise* sejam esses:\n",
        "\n",
        "##### MM = 41,96 g/mol\n",
        "##### Pureza = 99,20%\n",
        "##### Concentração final = 0,05 M = 0,05 mol/L\n",
        "##### Volume final da reação (valor escolhido inicialmente)"
      ],
      "metadata": {
        "id": "cncEnDQGpSqj"
      }
    },
    {
      "cell_type": "markdown",
      "source": [
        "####**2.2.1. Definir a quantidade em mol do *Agente de Hidrólise***"
      ],
      "metadata": {
        "id": "TxF3azRJpi_K"
      }
    },
    {
      "cell_type": "code",
      "source": [
        "MM2 = ('41.96')\n",
        "Pureza2 = ('99.2')\n",
        "conc_final2 = ('0.05')"
      ],
      "metadata": {
        "id": "RJgzUvlao13o"
      },
      "execution_count": 108,
      "outputs": []
    },
    {
      "cell_type": "code",
      "source": [
        "conc_final2 = float(conc_final2)\n",
        "MM2 = float(MM2)\n",
        "Pureza2 = float(Pureza2)"
      ],
      "metadata": {
        "id": "hprS_-4-rRUT"
      },
      "execution_count": 109,
      "outputs": []
    },
    {
      "cell_type": "code",
      "source": [
        "conc_molar2 = conc_final2 * volume_final / 1000     # 1000ml de solução"
      ],
      "metadata": {
        "id": "lk7BpsDhreS-"
      },
      "execution_count": 112,
      "outputs": []
    },
    {
      "cell_type": "code",
      "source": [
        "print(f' A concentração molar do Agente de hidrólise na reação será de {conc_molar2} mol')"
      ],
      "metadata": {
        "colab": {
          "base_uri": "https://localhost:8080/"
        },
        "id": "v8C_iWc0rrPx",
        "outputId": "214696b2-ee8a-410a-cd52-cbf7c763b4a3"
      },
      "execution_count": 114,
      "outputs": [
        {
          "output_type": "stream",
          "name": "stdout",
          "text": [
            " A concentração molar do Agente de hidrólise na reação será de 0.0125 mol\n"
          ]
        }
      ]
    },
    {
      "cell_type": "markdown",
      "source": [
        "####**2.2.2. Definir a quantidade em gramas do *Agente de Hidrólise***"
      ],
      "metadata": {
        "id": "0rglUBDYsk0C"
      }
    },
    {
      "cell_type": "code",
      "source": [
        "x2 = MM2 * conc_molar2 / 1      # 1 mol de Agente de Hidrolise"
      ],
      "metadata": {
        "id": "Q4UTIaQFsnn7"
      },
      "execution_count": 140,
      "outputs": []
    },
    {
      "cell_type": "code",
      "source": [
        "print(f' x será {x2}g Agente de Hidrólise ')"
      ],
      "metadata": {
        "colab": {
          "base_uri": "https://localhost:8080/"
        },
        "id": "I75Z5Daas2GY",
        "outputId": "1217beb3-312c-4149-d29d-d8ee6f18df18"
      },
      "execution_count": 116,
      "outputs": [
        {
          "output_type": "stream",
          "name": "stdout",
          "text": [
            " x será 0.5245000000000001g Agente de Hidrólise \n"
          ]
        }
      ]
    },
    {
      "cell_type": "markdown",
      "source": [
        "####**2.2.3. Definir a quantidade em gramas do *Agente de Hidrólise* adicionando sua pureza**"
      ],
      "metadata": {
        "id": "fHmHQc02tCfs"
      }
    },
    {
      "cell_type": "code",
      "source": [
        "y2 = x2 * 100 / Pureza2         # 100 g de sólido"
      ],
      "metadata": {
        "id": "z2MlTxx-s95r"
      },
      "execution_count": 117,
      "outputs": []
    },
    {
      "cell_type": "code",
      "source": [
        "print(f' Para realizar a etapa de Suspensão Coloidal seram necessários {y2}g sólido do Agente para {volume_final}ml de etanol ')"
      ],
      "metadata": {
        "colab": {
          "base_uri": "https://localhost:8080/"
        },
        "id": "wBCj-MjGtXhH",
        "outputId": "f799a67b-1984-43fe-d6e7-9261050dca48"
      },
      "execution_count": 119,
      "outputs": [
        {
          "output_type": "stream",
          "name": "stdout",
          "text": [
            " Para realizar a etapa de Suspensão Coloidal seram necessários 0.5287298387096775g sólido do Agente para 250.0ml de etanol \n"
          ]
        }
      ]
    },
    {
      "cell_type": "markdown",
      "source": [
        "##**3.Modificação de Superfície**"
      ],
      "metadata": {
        "id": "tcgIR7watvY1"
      }
    },
    {
      "cell_type": "markdown",
      "source": [
        "####Nesta etapa serão feitas duas soluções:\n",
        "####a) Solução com Agente de Hidrólise à 0,2 molar\n",
        "####b) Solução com Agente Modificador de Superfície à 0,1 molar"
      ],
      "metadata": {
        "id": "UJSvRiSFuC8d"
      }
    },
    {
      "cell_type": "markdown",
      "source": [
        "##**3.1. Solução com Agente de Hidrólise à 0,2 molar**"
      ],
      "metadata": {
        "id": "CnotIfuGuh1c"
      }
    },
    {
      "cell_type": "markdown",
      "source": [
        "####**3.1.1. Definir a quantidade em mol do *Agente de Hidrólise***"
      ],
      "metadata": {
        "id": "W_NlxPLUvbzF"
      }
    },
    {
      "cell_type": "code",
      "source": [
        "conc_molar3 = 0.2 * volume_final / 1000"
      ],
      "metadata": {
        "id": "RA23XQ0uu1dj"
      },
      "execution_count": 121,
      "outputs": []
    },
    {
      "cell_type": "code",
      "source": [
        "print(f' A concentração molar do Agente de hidrólise na reação será de {conc_molar3} mol')"
      ],
      "metadata": {
        "colab": {
          "base_uri": "https://localhost:8080/"
        },
        "id": "_2LDNwuRthHE",
        "outputId": "b5233f3c-625c-42fb-d58f-0dbc71b6d4c8"
      },
      "execution_count": 122,
      "outputs": [
        {
          "output_type": "stream",
          "name": "stdout",
          "text": [
            " A concentração molar do Agente de hidrólise na reação será de 0.05 mol\n"
          ]
        }
      ]
    },
    {
      "cell_type": "markdown",
      "source": [
        "####**3.1.2. Definir a quantidade em gramas do *Agente de Hidrólise***"
      ],
      "metadata": {
        "id": "QvDTVdzevjFc"
      }
    },
    {
      "cell_type": "code",
      "source": [
        "x3 = MM2 * conc_molar3 / 1      # 1 mol de Agente de hidrolise"
      ],
      "metadata": {
        "id": "yWv2M7AdvOkb"
      },
      "execution_count": 139,
      "outputs": []
    },
    {
      "cell_type": "code",
      "source": [
        "print(f' x será {x3}g Agente de Hidrólise ')"
      ],
      "metadata": {
        "colab": {
          "base_uri": "https://localhost:8080/"
        },
        "id": "Ac72Xv7xvuE3",
        "outputId": "f25493c7-036f-4b7e-8385-582c95eb6396"
      },
      "execution_count": 124,
      "outputs": [
        {
          "output_type": "stream",
          "name": "stdout",
          "text": [
            " x será 2.0980000000000003g Agente de Hidrólise \n"
          ]
        }
      ]
    },
    {
      "cell_type": "markdown",
      "source": [
        "####**3.1.3. Definir a quantidade em gramas do *Agente de Hidrólise* adicionando sua pureza**"
      ],
      "metadata": {
        "id": "5vdkd-i7v0GS"
      }
    },
    {
      "cell_type": "code",
      "source": [
        "y3 = x3 * 100 / Pureza2         # 100 g de sólido"
      ],
      "metadata": {
        "id": "K1hU9b5GvyFM"
      },
      "execution_count": 125,
      "outputs": []
    },
    {
      "cell_type": "code",
      "source": [
        "print(f' Para realizar a etapa de Suspensão Coloidal seram necessários {y3}g sólido do Agente para {volume_final}ml de etanol ')"
      ],
      "metadata": {
        "colab": {
          "base_uri": "https://localhost:8080/"
        },
        "id": "rybhu9e9wBNJ",
        "outputId": "f704cdc9-2327-4475-83a3-9d53f777bafb"
      },
      "execution_count": 126,
      "outputs": [
        {
          "output_type": "stream",
          "name": "stdout",
          "text": [
            " Para realizar a etapa de Suspensão Coloidal seram necessários 2.11491935483871g sólido do Agente para 250.0ml de etanol \n"
          ]
        }
      ]
    },
    {
      "cell_type": "markdown",
      "source": [
        "##**3.2. Solução com Agente Modificador de Superfície à 0,1 molar**"
      ],
      "metadata": {
        "id": "fr5vfp_rwPgg"
      }
    },
    {
      "cell_type": "markdown",
      "source": [
        "####**3.2.1. Colher os dados do material usado para a etapa de Suspensão Coloidal**"
      ],
      "metadata": {
        "id": "rCF1XzcCwroi"
      }
    },
    {
      "cell_type": "markdown",
      "source": [
        "#### Supondo que os dados do *Agente de Modificação* sejam esses:\n",
        "\n",
        "##### MM = 236,34 g/mol\n",
        "##### Pureza = 98%\n",
        "##### Densidade = 1,07 g/ml"
      ],
      "metadata": {
        "id": "h2gVUaffwu8h"
      }
    },
    {
      "cell_type": "code",
      "source": [
        "MM3 = ('236.34')\n",
        "Pureza3 = ('98')\n",
        "Densidade = ('1.07')"
      ],
      "metadata": {
        "id": "Kb6oI_l5yYLU"
      },
      "execution_count": 136,
      "outputs": []
    },
    {
      "cell_type": "code",
      "source": [
        "MM3 = float(MM3)\n",
        "Pureza3 = float(Pureza3)\n",
        "Densidade = float(Densidade)"
      ],
      "metadata": {
        "id": "z66cXfyvymWQ"
      },
      "execution_count": 137,
      "outputs": []
    },
    {
      "cell_type": "markdown",
      "source": [
        "####**3.2.2. Definir a quantidade em mol do *Agente de Modificação***"
      ],
      "metadata": {
        "id": "UZUpFFKBxLyo"
      }
    },
    {
      "cell_type": "code",
      "source": [
        "conc_molar4 = 0.1 * volume_final / 1000    #1000ml de solução"
      ],
      "metadata": {
        "id": "UTHuq75ywFec"
      },
      "execution_count": 128,
      "outputs": []
    },
    {
      "cell_type": "code",
      "source": [
        "print(f' A concentração molar do Agente de hidrólise na reação será de {conc_molar4} mol')"
      ],
      "metadata": {
        "colab": {
          "base_uri": "https://localhost:8080/"
        },
        "id": "wuWxcAHBwq14",
        "outputId": "3bb93cdf-0f58-41ee-af63-321a20d4995d"
      },
      "execution_count": 129,
      "outputs": [
        {
          "output_type": "stream",
          "name": "stdout",
          "text": [
            " A concentração molar do Agente de hidrólise na reação será de 0.025 mol\n"
          ]
        }
      ]
    },
    {
      "cell_type": "markdown",
      "source": [
        "####**3.2.3. Definir a quantidade em gramas do *Agente de Modificação***"
      ],
      "metadata": {
        "id": "DToNre19yDbl"
      }
    },
    {
      "cell_type": "code",
      "source": [
        "x4 = MM3 * conc_molar4 / 1      # 1 mol de Agente de modificação"
      ],
      "metadata": {
        "id": "V3eRbpdHxmMM"
      },
      "execution_count": 141,
      "outputs": []
    },
    {
      "cell_type": "code",
      "source": [
        "print(f' x será {x4}g Agente de Hidrólise ')"
      ],
      "metadata": {
        "colab": {
          "base_uri": "https://localhost:8080/"
        },
        "id": "RwfgyyZLyBhL",
        "outputId": "16fbf7ce-9648-4e0f-8f92-099db3d85bc9"
      },
      "execution_count": 142,
      "outputs": [
        {
          "output_type": "stream",
          "name": "stdout",
          "text": [
            " x será 5.9085g Agente de Hidrólise \n"
          ]
        }
      ]
    },
    {
      "cell_type": "markdown",
      "source": [
        "####**3.2.4. Definir a quantidade em gramas do *Agente de Modificação* adicionando sua pureza**"
      ],
      "metadata": {
        "id": "4rA-0x05zk3g"
      }
    },
    {
      "cell_type": "code",
      "source": [
        "y4 = x4 * 100 / Pureza3         # 100 g de sólido"
      ],
      "metadata": {
        "id": "enjSfDwYzszc"
      },
      "execution_count": 146,
      "outputs": []
    },
    {
      "cell_type": "code",
      "source": [
        "print(f' Para realizar a etapa de Suspensão Coloidal seram necessários {y4}g sólido do Agente para {volume_final}ml de etanol ')"
      ],
      "metadata": {
        "colab": {
          "base_uri": "https://localhost:8080/"
        },
        "id": "Pejs9-kez5NA",
        "outputId": "64eecc14-9266-4d26-be5d-41ba5ccd46a1"
      },
      "execution_count": 147,
      "outputs": [
        {
          "output_type": "stream",
          "name": "stdout",
          "text": [
            " Para realizar a etapa de Suspensão Coloidal seram necessários 6.029081632653061g sólido do Agente para 250.0ml de etanol \n"
          ]
        }
      ]
    },
    {
      "cell_type": "markdown",
      "source": [
        "####**3.2.5. Definir a quantidade em ml do *Agente de Modificação* a partir de sua Densidade**"
      ],
      "metadata": {
        "id": "NCYLfX6T0A4H"
      }
    },
    {
      "cell_type": "code",
      "source": [
        "Agente_Modificacao = y4 * 1 / Densidade"
      ],
      "metadata": {
        "id": "dHuaG5Ipz7o5"
      },
      "execution_count": 148,
      "outputs": []
    },
    {
      "cell_type": "code",
      "source": [
        "print(f' Para realizar a etapa de Suspensão Coloidal seram necessários {Agente_Modificacao}ml do Agente de Modificação para {volume_final}ml de etanol ')"
      ],
      "metadata": {
        "colab": {
          "base_uri": "https://localhost:8080/"
        },
        "id": "UpXsZXfD0eOz",
        "outputId": "3811d0ae-85ab-4625-cd65-8749f2ca5a4c"
      },
      "execution_count": 149,
      "outputs": [
        {
          "output_type": "stream",
          "name": "stdout",
          "text": [
            " Para realizar a etapa de Suspensão Coloidal seram necessários 5.634655731451459ml do Agente de Modificação para 250.0ml de etanol \n"
          ]
        }
      ]
    }
  ]
}