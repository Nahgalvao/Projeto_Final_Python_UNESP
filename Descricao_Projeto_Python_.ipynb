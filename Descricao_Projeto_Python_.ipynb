{
  "nbformat": 4,
  "nbformat_minor": 0,
  "metadata": {
    "colab": {
      "provenance": [],
      "authorship_tag": "ABX9TyM9KLWGNHCJgrMDC7jcRZw0",
      "include_colab_link": true
    },
    "kernelspec": {
      "name": "python3",
      "display_name": "Python 3"
    },
    "language_info": {
      "name": "python"
    }
  },
  "cells": [
    {
      "cell_type": "markdown",
      "metadata": {
        "id": "view-in-github",
        "colab_type": "text"
      },
      "source": [
        "<a href=\"https://colab.research.google.com/github/Nahgalvao/Projeto_Final_Python_UNESP/blob/main/Descricao_Projeto_Python_.ipynb\" target=\"_parent\"><img src=\"https://colab.research.google.com/assets/colab-badge.svg\" alt=\"Open In Colab\"/></a>"
      ]
    },
    {
      "cell_type": "markdown",
      "source": [
        "#**Projeto final da disciplina \"Introdução à Linguagem de Programação Python para Biocientistas\"**\n",
        "\n",
        "##UNESP - Faculdade de Ciências Farmacêuticas\n",
        "\n",
        "\n",
        "---\n",
        "\n",
        "**Discente:** Natália Galvão de Freitas\n",
        "\n",
        "**Docente:** Marcel Otávio Cerri\n",
        "\n",
        "---\n",
        "\n"
      ],
      "metadata": {
        "id": "l0-kT-69TbGA"
      }
    },
    {
      "cell_type": "markdown",
      "source": [
        "##**Resumo**"
      ],
      "metadata": {
        "id": "0po9PI7IXr5J"
      }
    },
    {
      "cell_type": "markdown",
      "source": [
        "#### O laboratório de Ciência dos Materiais aplicadas à Farmácia (CMAF), desenvolve pesquisas com uso de nanoparticulas multifuncionais que podem ser aplicadas em tratamento e diagnóstico de doenças. O projeto visa aprimorar a produção destas nanopartículas."
      ],
      "metadata": {
        "id": "29T7Vcz5XxqB"
      }
    },
    {
      "cell_type": "markdown",
      "source": [
        "##**1. Introdução**\n"
      ],
      "metadata": {
        "id": "mhH5E1QJXc0B"
      }
    },
    {
      "cell_type": "markdown",
      "source": [
        "####  A Produção de nanoparticulas pode ser um processo delicado e demorado, depende de fatores externos e precisão durante o processo. Ele pode ser separado em quatro etapas diferentes. Sendo elas, a primeira *Etapa Precurssora*, a qual consiste na formação de cristais que garantem a mehor atividade antibactericida e melhor imagem no caso de uso para diagnóstico; a segunda etapa, *Suspensão Coloidal*, na qual se acrescenta o agente de hidrólise; a terceira, *Modificação de Superfície* e por último a *Centrifugação*. No presente estudo, vamos nos ater apenas as três primeiras etapas do processo."
      ],
      "metadata": {
        "id": "FKDCYpzHsWSM"
      }
    },
    {
      "cell_type": "markdown",
      "source": [
        "##**2. Objetivos**"
      ],
      "metadata": {
        "id": "PZFdEBVWsXGL"
      }
    },
    {
      "cell_type": "markdown",
      "source": [
        "#### O presente estudo, visa aprimorar e facilitar o trabalho em laboratório de modo que seja possível fazer de maneira rápida e simples os cálculos necessários para a fabricação de nanopartículas por meio da linguagem de programação em Python.\n"
      ],
      "metadata": {
        "id": "Ba9cFLOwXldg"
      }
    },
    {
      "cell_type": "markdown",
      "source": [
        "##**3. Metodologia e Conclusão**"
      ],
      "metadata": {
        "id": "zCTdUIufvJWs"
      }
    },
    {
      "cell_type": "markdown",
      "source": [
        "#### Por meio da linguagem de programação em Python, foi desenvolvido um método no qual após fornecer os dados necessários sobre o material de uso para a formulação das nanopartículas e a quantidade de volume final desejada é possível saber a quantidade necessária de reagentes para a reação *Precurssora*, *Suspensão Coloidal* e *Modificação de Superfície*."
      ],
      "metadata": {
        "id": "qSymJU1UvZyf"
      }
    }
  ]
}